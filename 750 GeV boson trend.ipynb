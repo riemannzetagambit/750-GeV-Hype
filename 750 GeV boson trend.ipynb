{
 "cells": [
  {
   "cell_type": "code",
   "execution_count": 1,
   "metadata": {
    "collapsed": true
   },
   "outputs": [],
   "source": [
    "import pandas as pd\n",
    "import numpy as np\n",
    "import urllib, datetime\n",
    "import matplotlib.pyplot as plt\n",
    "%matplotlib inline"
   ]
  },
  {
   "cell_type": "code",
   "execution_count": 19,
   "metadata": {
    "collapsed": false
   },
   "outputs": [],
   "source": [
    "# Note that rg = 250 grabs 250 records, the maximum number allowed\n",
    "url = 'http://inspirehep.net/search?p=find t diphoton excess or 750 gev or refersto:recid:1410174 and de > 2015-12-15&of=recjson&rg=350'\n",
    "hypepapers = urllib.urlopen(url).read()\n",
    "# Let's get a control sample which is all hep-ph papers in the same period\n",
    "url = 'http://inspirehep.net/search?p=primarch hep-ph and de > 2015-12-15&of=recjson&rg=350'\n",
    "allpapers = urllib.urlopen(url).read()"
   ]
  },
  {
   "cell_type": "code",
   "execution_count": 20,
   "metadata": {
    "collapsed": false
   },
   "outputs": [],
   "source": [
    "dfhype = pd.read_json(hypepapers, orient='records')\n",
    "dfall = pd.read_json(allpapers, orient='records')"
   ]
  },
  {
   "cell_type": "code",
   "execution_count": 21,
   "metadata": {
    "collapsed": false
   },
   "outputs": [],
   "source": [
    "dfhype['date'] = dfhype.apply(lambda row: datetime.datetime.strptime(row['creation_date'],\"%Y-%m-%dT%H:%M:%S\"), axis=1)\n",
    "dfall['date'] = dfall.apply(lambda row: datetime.datetime.strptime(row['creation_date'],\"%Y-%m-%dT%H:%M:%S\"), axis=1)\n",
    "\n",
    "dday = min(dfhype.date)\n",
    "latestday = max(dfhype.date)\n",
    "\n",
    "dfhype['days_since_release'] = dfhype.apply(lambda row: (row['date'] - dday).days, axis = 1)\n",
    "dfall['days_since_release'] = dfall.apply(lambda row: (row['date'] - dday).days, axis = 1)"
   ]
  },
  {
   "cell_type": "code",
   "execution_count": 16,
   "metadata": {
    "collapsed": false
   },
   "outputs": [
    {
     "name": "stdout",
     "output_type": "stream",
     "text": [
      "days_since_release\n",
      "0      7\n",
      "1     19\n",
      "3      7\n",
      "5     30\n",
      "6     15\n",
      "7      8\n",
      "12    20\n",
      "14    15\n",
      "Name: days_since_release, dtype: int64\n",
      "days_since_release\n",
      "3      9\n",
      "5     68\n",
      "6     50\n",
      "7     16\n",
      "12    43\n",
      "14    64\n",
      "Name: days_since_release, dtype: int64\n"
     ]
    }
   ],
   "source": [
    "print dfhype.days_since_release.groupby(dfhype.days_since_release).count()\n",
    "print dfall.days_since_release.groupby(dfall.days_since_release).count()"
   ]
  },
  {
   "cell_type": "code",
   "execution_count": 38,
   "metadata": {
    "collapsed": false
   },
   "outputs": [
    {
     "name": "stdout",
     "output_type": "stream",
     "text": [
      "                                            FIXME_OAI  \\\n",
      "1   {u'set': u'INSPIRE:HEP', u'id': u'oai:inspireh...   \n",
      "34  {u'set': u'INSPIRE:HEP', u'id': u'oai:inspireh...   \n",
      "\n",
      "                                             abstract  \\\n",
      "1   {u'number': u'arXiv', u'summary': u'We study w...   \n",
      "34  {u'number': u'arXiv', u'summary': u'A new type...   \n",
      "\n",
      "                                              authors  \\\n",
      "1   [{u'first_name': u'Luca', u'last_name': u'Marz...   \n",
      "34  [{u'affiliation': u'Chongqing U.', u'first_nam...   \n",
      "\n",
      "                                           collection             comment  \\\n",
      "1   [{u'primary': u'CORE'}, {u'primary': u'arXiv'}...   *Temporary entry*   \n",
      "34  [{u'primary': u'CORE'}, {u'primary': u'arXiv'}...  7 pages, 4 figures   \n",
      "\n",
      "          creation_date                                          filenames  \\\n",
      "1   2015-12-31T04:55:52  [arXiv:1512.09136, arXiv:1512, arXiv:1512.0913...   \n",
      "34  2015-12-29T04:50:52  [fig4rS, fig4rS.png, fig4rS, fig4rS.png;contex...   \n",
      "\n",
      "                                                files  \\\n",
      "1   [{u'comment': None, u'status': u'', u'magic': ...   \n",
      "34  [{u'comment': None, u'status': u'', u'magic': ...   \n",
      "\n",
      "                                            filetypes  \\\n",
      "1                           [pdf, png, png, png, png]   \n",
      "34  [png, png, png, png, png, png, png, png, pdf, ...   \n",
      "\n",
      "                                              license        ...          \\\n",
      "1   {u'imposing': u'arXiv', u'url': u'http://arxiv...        ...           \n",
      "34  {u'imposing': u'arXiv', u'url': u'http://arxiv...        ...           \n",
      "\n",
      "                                            reference  \\\n",
      "1   [{u'order_number': u'1', u'authors': u'A. A. S...   \n",
      "34  [{u'order_number': u'1', u'report_number': u'A...   \n",
      "\n",
      "                   source_of_acquisition  \\\n",
      "1   {u'source_of_acquisition': u'arxiv'}   \n",
      "34  {u'source_of_acquisition': u'arxiv'}   \n",
      "\n",
      "                                              subject  \\\n",
      "1   [{u'source': u'arXiv', u'term': u'hep-ph'}, {u...   \n",
      "34  [{u'source': u'arXiv', u'term': u'hep-ph'}, {u...   \n",
      "\n",
      "                                system_control_number  \\\n",
      "1   [{u'institute': u'INSPIRETeX', u'value': u'Mar...   \n",
      "34  [{u'institute': u'INSPIRETeX', u'value': u'Han...   \n",
      "\n",
      "                                      thesaurus_terms  \\\n",
      "1                                                 NaN   \n",
      "34  [{u'term': u'* Automatic Keywords *'}, {u'inst...   \n",
      "\n",
      "                                                title  \\\n",
      "1   {u'title': u'Non-minimal CW inflation, electro...   \n",
      "34  {u'title': u'Dark Matter Theories in the Light...   \n",
      "\n",
      "                                     title_additional           version_id  \\\n",
      "1   {u'title': u'Non-minimal CW inflation, electro...  2016-01-01T05:31:30   \n",
      "34  {u'title': u'Dark Matter Theories in the Light...  2016-01-04T18:19:03   \n",
      "\n",
      "                  date days_since_release  \n",
      "1  2015-12-31 04:55:52                 14  \n",
      "34 2015-12-29 04:50:52                 12  \n",
      "\n",
      "[2 rows x 29 columns]\n"
     ]
    }
   ],
   "source": [
    "#dfall[['date','days_since_release']]\n",
    "dfall.columns.values\n",
    "\n",
    "print dfhype.loc[[1,34]]"
   ]
  },
  {
   "cell_type": "code",
   "execution_count": null,
   "metadata": {
    "collapsed": false
   },
   "outputs": [],
   "source": [
    "f, a = plt.subplots()\n",
    "start = dday\n",
    "finish = latestday\n",
    "f.set_size_inches(10,7)\n",
    "hype_counts = dfhype.date.groupby(dfhype.date.dt.day).count()\n",
    "all_counts = dfall.date.groupby(dfall.date.dt.day).count()\n",
    "ind = np.arange(start,finish)\n",
    "width = 1\n",
    "hype_plot = a.hist(np.asarray(dfhype.date.dt.day), bins=np.arange(start,finish), color='r', alpha=0.55)\n",
    "all_plot = a.hist(np.asarray(dfall.date.dt.day), bins=np.arange(start,finish), color='b', alpha=0.55)\n",
    "a.set_xlim(start,finish)\n",
    "a.set_xlabel('Day since release of results')\n",
    "a.set_ylabel('Papers published on hep-ph')\n",
    "a.legend(('Papers related to diphoton excess','All papers pushed to hep-ph'), loc=(.01,.85))\n",
    "\n",
    "# it would be nice to produce x-axis with 'days since d-day', so to speak\n",
    "# this would require figuring out date differences in python (again)"
   ]
  },
  {
   "cell_type": "code",
   "execution_count": null,
   "metadata": {
    "collapsed": false
   },
   "outputs": [],
   "source": [
    "hype_counts = dfhype.days_since_dday.groupby(dfhype.days_since_dday).count()\n",
    "all_counts = dfall.days_since_dday.groupby(dfall.days_since_dday).count()\n",
    "print(hype_counts)\n",
    "print(all_counts)"
   ]
  },
  {
   "cell_type": "code",
   "execution_count": null,
   "metadata": {
    "collapsed": false
   },
   "outputs": [],
   "source": [
    "pd.__version__"
   ]
  },
  {
   "cell_type": "code",
   "execution_count": null,
   "metadata": {
    "collapsed": true
   },
   "outputs": [],
   "source": [
    "df.number_of_citations.value_counts()"
   ]
  },
  {
   "cell_type": "code",
   "execution_count": null,
   "metadata": {
    "collapsed": true
   },
   "outputs": [],
   "source": [
    "# Idea: look at citation binging just after higgs hint in 2011 \n",
    "# (this search seems to do it, but there are many fewer records in the same time span, hmmmm)\n",
    "# (might need to change ending date, it includes a bunch of theses)\n",
    "# url = 'http://inspirehep.net/search?p=find t 125 or find t 126 or find t higgs or refersto:recid:1204219 or refersto:recid:1260660 aund de > 2011-12-11 and de < 2012-03-04&of=recjson&rg=250'\n",
    "\n",
    "# Further, we could find the uproar after doing the same thing for the ACTUAL Higgs discovery, which we can find with this search\n",
    "# url = 'http://inspirehep.net/search?p=refersto:recid:1124338 or refersto:recid:1124337 and de > 2012-07-04 and de < 2012-09-04&of=recjson&rg=250'\n",
    "\n",
    "# alternatively, we could clock each to see how long each takes \n",
    "# to get to 100 papers on said topic, and compare that time"
   ]
  }
 ],
 "metadata": {
  "kernelspec": {
   "display_name": "Python 2",
   "language": "python",
   "name": "python2"
  },
  "language_info": {
   "codemirror_mode": {
    "name": "ipython",
    "version": 2
   },
   "file_extension": ".py",
   "mimetype": "text/x-python",
   "name": "python",
   "nbconvert_exporter": "python",
   "pygments_lexer": "ipython2",
   "version": "2.7.10"
  }
 },
 "nbformat": 4,
 "nbformat_minor": 0
}
